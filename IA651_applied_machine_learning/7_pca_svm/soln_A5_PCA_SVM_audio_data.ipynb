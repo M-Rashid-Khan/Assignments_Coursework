{
 "cells": [
  {
   "cell_type": "code",
   "execution_count": 86,
   "metadata": {},
   "outputs": [],
   "source": [
    "import pickle\n",
    "import pandas as pd\n",
    "from sklearn import metrics\n",
    "from sklearn.svm import SVC\n",
    "from sklearn.metrics import confusion_matrix, accuracy_score, classification_report\n",
    "from sklearn.model_selection import train_test_split,KFold,cross_val_score,GridSearchCV"
   ]
  },
  {
   "cell_type": "code",
   "execution_count": 87,
   "metadata": {},
   "outputs": [],
   "source": [
    "#Use the attached audio data file.\n",
    "#Load the data\n",
    "import numpy as np\n",
    "import matplotlib.pyplot as plt\n",
    "from sklearn.preprocessing import scale \n",
    "from sklearn.model_selection import KFold, cross_val_score, train_test_split\n",
    "from sklearn.decomposition import PCA\n",
    "df=pd.read_csv('../data/train_data.zip',compression='zip')\n",
    "df=df.fillna(0)"
   ]
  },
  {
   "cell_type": "code",
   "execution_count": 88,
   "metadata": {},
   "outputs": [
    {
     "data": {
      "text/html": [
       "<div>\n",
       "<style scoped>\n",
       "    .dataframe tbody tr th:only-of-type {\n",
       "        vertical-align: middle;\n",
       "    }\n",
       "\n",
       "    .dataframe tbody tr th {\n",
       "        vertical-align: top;\n",
       "    }\n",
       "\n",
       "    .dataframe thead th {\n",
       "        text-align: right;\n",
       "    }\n",
       "</style>\n",
       "<table border=\"1\" class=\"dataframe\">\n",
       "  <thead>\n",
       "    <tr style=\"text-align: right;\">\n",
       "      <th></th>\n",
       "      <th>label</th>\n",
       "      <th>pixel0</th>\n",
       "      <th>pixel1</th>\n",
       "      <th>pixel2</th>\n",
       "      <th>pixel3</th>\n",
       "      <th>pixel4</th>\n",
       "      <th>pixel5</th>\n",
       "      <th>pixel6</th>\n",
       "      <th>pixel7</th>\n",
       "      <th>pixel8</th>\n",
       "      <th>...</th>\n",
       "      <th>pixel5751</th>\n",
       "      <th>pixel5752</th>\n",
       "      <th>pixel5753</th>\n",
       "      <th>pixel5754</th>\n",
       "      <th>pixel5755</th>\n",
       "      <th>pixel5756</th>\n",
       "      <th>pixel5757</th>\n",
       "      <th>pixel5758</th>\n",
       "      <th>pixel5759</th>\n",
       "      <th>pixel5760</th>\n",
       "    </tr>\n",
       "  </thead>\n",
       "  <tbody>\n",
       "    <tr>\n",
       "      <th>count</th>\n",
       "      <td>498.000000</td>\n",
       "      <td>4.980000e+02</td>\n",
       "      <td>4.980000e+02</td>\n",
       "      <td>4.980000e+02</td>\n",
       "      <td>4.980000e+02</td>\n",
       "      <td>4.980000e+02</td>\n",
       "      <td>4.980000e+02</td>\n",
       "      <td>4.980000e+02</td>\n",
       "      <td>4.980000e+02</td>\n",
       "      <td>4.980000e+02</td>\n",
       "      <td>...</td>\n",
       "      <td>4.980000e+02</td>\n",
       "      <td>4.980000e+02</td>\n",
       "      <td>4.980000e+02</td>\n",
       "      <td>4.980000e+02</td>\n",
       "      <td>4.980000e+02</td>\n",
       "      <td>4.980000e+02</td>\n",
       "      <td>4.980000e+02</td>\n",
       "      <td>4.980000e+02</td>\n",
       "      <td>498.000000</td>\n",
       "      <td>498.0</td>\n",
       "    </tr>\n",
       "    <tr>\n",
       "      <th>mean</th>\n",
       "      <td>0.771084</td>\n",
       "      <td>4.550947e-04</td>\n",
       "      <td>1.012209e-03</td>\n",
       "      <td>2.023358e-03</td>\n",
       "      <td>2.801039e-03</td>\n",
       "      <td>3.967676e-03</td>\n",
       "      <td>4.088747e-03</td>\n",
       "      <td>4.231594e-03</td>\n",
       "      <td>3.563347e-03</td>\n",
       "      <td>3.497138e-03</td>\n",
       "      <td>...</td>\n",
       "      <td>7.606265e-07</td>\n",
       "      <td>7.523284e-07</td>\n",
       "      <td>7.122032e-07</td>\n",
       "      <td>6.978583e-07</td>\n",
       "      <td>7.091612e-07</td>\n",
       "      <td>6.540906e-07</td>\n",
       "      <td>7.256252e-07</td>\n",
       "      <td>7.876270e-07</td>\n",
       "      <td>0.000145</td>\n",
       "      <td>0.0</td>\n",
       "    </tr>\n",
       "    <tr>\n",
       "      <th>std</th>\n",
       "      <td>0.420557</td>\n",
       "      <td>3.969101e-03</td>\n",
       "      <td>5.752964e-03</td>\n",
       "      <td>1.266470e-02</td>\n",
       "      <td>1.768508e-02</td>\n",
       "      <td>2.625095e-02</td>\n",
       "      <td>2.192172e-02</td>\n",
       "      <td>2.146066e-02</td>\n",
       "      <td>1.776168e-02</td>\n",
       "      <td>1.665157e-02</td>\n",
       "      <td>...</td>\n",
       "      <td>2.248290e-06</td>\n",
       "      <td>2.031299e-06</td>\n",
       "      <td>1.982734e-06</td>\n",
       "      <td>1.850756e-06</td>\n",
       "      <td>2.071805e-06</td>\n",
       "      <td>1.689767e-06</td>\n",
       "      <td>2.203251e-06</td>\n",
       "      <td>1.832810e-06</td>\n",
       "      <td>0.000507</td>\n",
       "      <td>0.0</td>\n",
       "    </tr>\n",
       "    <tr>\n",
       "      <th>min</th>\n",
       "      <td>0.000000</td>\n",
       "      <td>0.000000e+00</td>\n",
       "      <td>0.000000e+00</td>\n",
       "      <td>1.464108e-16</td>\n",
       "      <td>9.305325e-11</td>\n",
       "      <td>1.686819e-10</td>\n",
       "      <td>5.111137e-10</td>\n",
       "      <td>2.381365e-09</td>\n",
       "      <td>8.326484e-08</td>\n",
       "      <td>8.432650e-08</td>\n",
       "      <td>...</td>\n",
       "      <td>0.000000e+00</td>\n",
       "      <td>0.000000e+00</td>\n",
       "      <td>0.000000e+00</td>\n",
       "      <td>0.000000e+00</td>\n",
       "      <td>0.000000e+00</td>\n",
       "      <td>0.000000e+00</td>\n",
       "      <td>0.000000e+00</td>\n",
       "      <td>0.000000e+00</td>\n",
       "      <td>0.000000</td>\n",
       "      <td>0.0</td>\n",
       "    </tr>\n",
       "    <tr>\n",
       "      <th>25%</th>\n",
       "      <td>1.000000</td>\n",
       "      <td>2.099259e-07</td>\n",
       "      <td>1.619865e-07</td>\n",
       "      <td>1.826671e-07</td>\n",
       "      <td>3.162441e-07</td>\n",
       "      <td>4.498702e-07</td>\n",
       "      <td>7.523503e-07</td>\n",
       "      <td>8.646179e-07</td>\n",
       "      <td>8.724283e-07</td>\n",
       "      <td>1.148021e-06</td>\n",
       "      <td>...</td>\n",
       "      <td>3.984256e-08</td>\n",
       "      <td>4.229937e-08</td>\n",
       "      <td>3.996079e-08</td>\n",
       "      <td>3.614093e-08</td>\n",
       "      <td>3.816058e-08</td>\n",
       "      <td>3.372291e-08</td>\n",
       "      <td>3.725384e-08</td>\n",
       "      <td>5.633666e-08</td>\n",
       "      <td>0.000001</td>\n",
       "      <td>0.0</td>\n",
       "    </tr>\n",
       "    <tr>\n",
       "      <th>50%</th>\n",
       "      <td>1.000000</td>\n",
       "      <td>4.441994e-07</td>\n",
       "      <td>5.464149e-07</td>\n",
       "      <td>6.423447e-07</td>\n",
       "      <td>8.091217e-07</td>\n",
       "      <td>1.087191e-06</td>\n",
       "      <td>1.886654e-06</td>\n",
       "      <td>2.308385e-06</td>\n",
       "      <td>2.447852e-06</td>\n",
       "      <td>3.131247e-06</td>\n",
       "      <td>...</td>\n",
       "      <td>1.599216e-07</td>\n",
       "      <td>1.518522e-07</td>\n",
       "      <td>1.463107e-07</td>\n",
       "      <td>1.395661e-07</td>\n",
       "      <td>1.366467e-07</td>\n",
       "      <td>1.297761e-07</td>\n",
       "      <td>1.325580e-07</td>\n",
       "      <td>1.979556e-07</td>\n",
       "      <td>0.000008</td>\n",
       "      <td>0.0</td>\n",
       "    </tr>\n",
       "    <tr>\n",
       "      <th>75%</th>\n",
       "      <td>1.000000</td>\n",
       "      <td>2.751659e-06</td>\n",
       "      <td>1.179958e-05</td>\n",
       "      <td>2.962908e-05</td>\n",
       "      <td>5.345103e-05</td>\n",
       "      <td>8.859461e-05</td>\n",
       "      <td>1.132882e-04</td>\n",
       "      <td>1.307337e-04</td>\n",
       "      <td>1.108134e-04</td>\n",
       "      <td>1.011311e-04</td>\n",
       "      <td>...</td>\n",
       "      <td>4.797698e-07</td>\n",
       "      <td>4.893144e-07</td>\n",
       "      <td>4.134273e-07</td>\n",
       "      <td>4.701599e-07</td>\n",
       "      <td>4.192325e-07</td>\n",
       "      <td>3.989794e-07</td>\n",
       "      <td>4.007739e-07</td>\n",
       "      <td>6.078004e-07</td>\n",
       "      <td>0.000059</td>\n",
       "      <td>0.0</td>\n",
       "    </tr>\n",
       "    <tr>\n",
       "      <th>max</th>\n",
       "      <td>1.000000</td>\n",
       "      <td>5.799263e-02</td>\n",
       "      <td>6.504698e-02</td>\n",
       "      <td>1.566792e-01</td>\n",
       "      <td>2.645070e-01</td>\n",
       "      <td>3.892635e-01</td>\n",
       "      <td>3.615926e-01</td>\n",
       "      <td>3.397614e-01</td>\n",
       "      <td>2.604496e-01</td>\n",
       "      <td>2.059865e-01</td>\n",
       "      <td>...</td>\n",
       "      <td>2.470363e-05</td>\n",
       "      <td>2.089157e-05</td>\n",
       "      <td>1.858421e-05</td>\n",
       "      <td>1.852425e-05</td>\n",
       "      <td>2.732086e-05</td>\n",
       "      <td>1.410118e-05</td>\n",
       "      <td>2.220329e-05</td>\n",
       "      <td>1.816809e-05</td>\n",
       "      <td>0.007819</td>\n",
       "      <td>0.0</td>\n",
       "    </tr>\n",
       "  </tbody>\n",
       "</table>\n",
       "<p>8 rows × 5762 columns</p>\n",
       "</div>"
      ],
      "text/plain": [
       "            label        pixel0        pixel1        pixel2        pixel3  \\\n",
       "count  498.000000  4.980000e+02  4.980000e+02  4.980000e+02  4.980000e+02   \n",
       "mean     0.771084  4.550947e-04  1.012209e-03  2.023358e-03  2.801039e-03   \n",
       "std      0.420557  3.969101e-03  5.752964e-03  1.266470e-02  1.768508e-02   \n",
       "min      0.000000  0.000000e+00  0.000000e+00  1.464108e-16  9.305325e-11   \n",
       "25%      1.000000  2.099259e-07  1.619865e-07  1.826671e-07  3.162441e-07   \n",
       "50%      1.000000  4.441994e-07  5.464149e-07  6.423447e-07  8.091217e-07   \n",
       "75%      1.000000  2.751659e-06  1.179958e-05  2.962908e-05  5.345103e-05   \n",
       "max      1.000000  5.799263e-02  6.504698e-02  1.566792e-01  2.645070e-01   \n",
       "\n",
       "             pixel4        pixel5        pixel6        pixel7        pixel8  \\\n",
       "count  4.980000e+02  4.980000e+02  4.980000e+02  4.980000e+02  4.980000e+02   \n",
       "mean   3.967676e-03  4.088747e-03  4.231594e-03  3.563347e-03  3.497138e-03   \n",
       "std    2.625095e-02  2.192172e-02  2.146066e-02  1.776168e-02  1.665157e-02   \n",
       "min    1.686819e-10  5.111137e-10  2.381365e-09  8.326484e-08  8.432650e-08   \n",
       "25%    4.498702e-07  7.523503e-07  8.646179e-07  8.724283e-07  1.148021e-06   \n",
       "50%    1.087191e-06  1.886654e-06  2.308385e-06  2.447852e-06  3.131247e-06   \n",
       "75%    8.859461e-05  1.132882e-04  1.307337e-04  1.108134e-04  1.011311e-04   \n",
       "max    3.892635e-01  3.615926e-01  3.397614e-01  2.604496e-01  2.059865e-01   \n",
       "\n",
       "       ...     pixel5751     pixel5752     pixel5753     pixel5754  \\\n",
       "count  ...  4.980000e+02  4.980000e+02  4.980000e+02  4.980000e+02   \n",
       "mean   ...  7.606265e-07  7.523284e-07  7.122032e-07  6.978583e-07   \n",
       "std    ...  2.248290e-06  2.031299e-06  1.982734e-06  1.850756e-06   \n",
       "min    ...  0.000000e+00  0.000000e+00  0.000000e+00  0.000000e+00   \n",
       "25%    ...  3.984256e-08  4.229937e-08  3.996079e-08  3.614093e-08   \n",
       "50%    ...  1.599216e-07  1.518522e-07  1.463107e-07  1.395661e-07   \n",
       "75%    ...  4.797698e-07  4.893144e-07  4.134273e-07  4.701599e-07   \n",
       "max    ...  2.470363e-05  2.089157e-05  1.858421e-05  1.852425e-05   \n",
       "\n",
       "          pixel5755     pixel5756     pixel5757     pixel5758   pixel5759  \\\n",
       "count  4.980000e+02  4.980000e+02  4.980000e+02  4.980000e+02  498.000000   \n",
       "mean   7.091612e-07  6.540906e-07  7.256252e-07  7.876270e-07    0.000145   \n",
       "std    2.071805e-06  1.689767e-06  2.203251e-06  1.832810e-06    0.000507   \n",
       "min    0.000000e+00  0.000000e+00  0.000000e+00  0.000000e+00    0.000000   \n",
       "25%    3.816058e-08  3.372291e-08  3.725384e-08  5.633666e-08    0.000001   \n",
       "50%    1.366467e-07  1.297761e-07  1.325580e-07  1.979556e-07    0.000008   \n",
       "75%    4.192325e-07  3.989794e-07  4.007739e-07  6.078004e-07    0.000059   \n",
       "max    2.732086e-05  1.410118e-05  2.220329e-05  1.816809e-05    0.007819   \n",
       "\n",
       "       pixel5760  \n",
       "count      498.0  \n",
       "mean         0.0  \n",
       "std          0.0  \n",
       "min          0.0  \n",
       "25%          0.0  \n",
       "50%          0.0  \n",
       "75%          0.0  \n",
       "max          0.0  \n",
       "\n",
       "[8 rows x 5762 columns]"
      ]
     },
     "execution_count": 88,
     "metadata": {},
     "output_type": "execute_result"
    }
   ],
   "source": [
    "import seaborn as sns\n",
    "df.describe()"
   ]
  },
  {
   "cell_type": "code",
   "execution_count": 68,
   "metadata": {},
   "outputs": [
    {
     "name": "stdout",
     "output_type": "stream",
     "text": [
      "<class 'pandas.core.frame.DataFrame'>\n",
      "RangeIndex: 498 entries, 0 to 497\n",
      "Columns: 5762 entries, label to pixel5760\n",
      "dtypes: float64(5762)\n",
      "memory usage: 21.9 MB\n"
     ]
    }
   ],
   "source": [
    "df.info()"
   ]
  },
  {
   "cell_type": "code",
   "execution_count": 89,
   "metadata": {},
   "outputs": [
    {
     "data": {
      "text/plain": [
       "(498, 5762)"
      ]
     },
     "execution_count": 89,
     "metadata": {},
     "output_type": "execute_result"
    }
   ],
   "source": [
    "df.shape"
   ]
  },
  {
   "cell_type": "code",
   "execution_count": 90,
   "metadata": {},
   "outputs": [
    {
     "data": {
      "text/plain": [
       "Index(['label', 'pixel0', 'pixel1', 'pixel2', 'pixel3', 'pixel4', 'pixel5',\n",
       "       'pixel6', 'pixel7', 'pixel8',\n",
       "       ...\n",
       "       'pixel5751', 'pixel5752', 'pixel5753', 'pixel5754', 'pixel5755',\n",
       "       'pixel5756', 'pixel5757', 'pixel5758', 'pixel5759', 'pixel5760'],\n",
       "      dtype='object', length=5762)"
      ]
     },
     "execution_count": 90,
     "metadata": {},
     "output_type": "execute_result"
    }
   ],
   "source": [
    "df.columns"
   ]
  },
  {
   "cell_type": "code",
   "execution_count": 91,
   "metadata": {},
   "outputs": [
    {
     "name": "stderr",
     "output_type": "stream",
     "text": [
      "c:\\Users\\rashi\\anaconda3\\lib\\site-packages\\seaborn\\_decorators.py:36: FutureWarning: Pass the following variable as a keyword arg: x. From version 0.12, the only valid positional argument will be `data`, and passing other arguments without an explicit keyword will result in an error or misinterpretation.\n",
      "  warnings.warn(\n"
     ]
    },
    {
     "data": {
      "text/plain": [
       "<AxesSubplot:xlabel='label', ylabel='count'>"
      ]
     },
     "execution_count": 91,
     "metadata": {},
     "output_type": "execute_result"
    },
    {
     "data": {
      "image/png": "[encoded data removed]",
      "text/plain": [
       "<Figure size 640x480 with 1 Axes>"
      ]
     },
     "metadata": {},
     "output_type": "display_data"
    }
   ],
   "source": [
    "sns.countplot(df['label'], label = 'Count')"
   ]
  },
  {
   "cell_type": "code",
   "execution_count": 92,
   "metadata": {},
   "outputs": [
    {
     "data": {
      "text/plain": [
       "<AxesSubplot:xlabel='pixel0', ylabel='pixel1'>"
      ]
     },
     "execution_count": 92,
     "metadata": {},
     "output_type": "execute_result"
    },
    {
     "data": {
      "image/png": "[encoded data removed]",
      "text/plain": [
       "<Figure size 1000x800 with 1 Axes>"
      ]
     },
     "metadata": {},
     "output_type": "display_data"
    }
   ],
   "source": [
    "plt.figure(figsize=(10,8))\n",
    "sns.scatterplot(x='pixel0', y='pixel1', hue='label', data=df)"
   ]
  },
  {
   "cell_type": "code",
   "execution_count": 93,
   "metadata": {},
   "outputs": [],
   "source": [
    "from sklearn.model_selection import cross_val_score, train_test_split\n",
    "from sklearn.preprocessing import StandardScaler, MinMaxScaler\n",
    "target  = 'label'\n",
    "X = df.drop(target, axis=1)\n",
    "y = df[target].values.astype(int)\n"
   ]
  },
  {
   "cell_type": "code",
   "execution_count": 94,
   "metadata": {},
   "outputs": [
    {
     "name": "stdout",
     "output_type": "stream",
     "text": [
      " 'X' shape: (498, 5761)\n",
      " 'y' shape: (498,)\n"
     ]
    }
   ],
   "source": [
    "print(f\" 'X' shape: {X.shape}\")\n",
    "print(f\" 'y' shape: {y.shape}\")"
   ]
  },
  {
   "cell_type": "code",
   "execution_count": 100,
   "metadata": {},
   "outputs": [],
   "source": [
    "X_train, X_test, y_train, y_test = train_test_split(X, y, test_size=0.30, random_state=10)"
   ]
  },
  {
   "cell_type": "code",
   "execution_count": 101,
   "metadata": {},
   "outputs": [],
   "source": [
    "#Scale the data\n",
    "#Run the features through PCA\n",
    "#We create a PCA object, use the fit method to discover the principle components, \n",
    "#and then use transform to rotate and reduce the dimensionality.\n",
    "from sklearn.decomposition import PCA\n",
    "pca = PCA(n_components=2)\n",
    "scaler = StandardScaler()\n",
    "X_train= pca.fit_transform(X_train)\n",
    "X_test = pca.transform(X_test)\n",
    "X_train = scaler.fit_transform(X_train)\n",
    "X_test = scaler.transform(X_test)"
   ]
  },
  {
   "cell_type": "code",
   "execution_count": 102,
   "metadata": {},
   "outputs": [
    {
     "data": {
      "text/plain": [
       "Text(0, 0.5, 'Second Principal Component')"
      ]
     },
     "execution_count": 102,
     "metadata": {},
     "output_type": "execute_result"
    },
    {
     "data": {
      "image/png": "[encoded data removed]",
      "text/plain": [
       "<Figure size 800x600 with 1 Axes>"
      ]
     },
     "metadata": {},
     "output_type": "display_data"
    }
   ],
   "source": [
    "plt.figure(figsize=(8,6))\n",
    "plt.scatter(X_train[:,0],X_train[:,1],c=y_train,cmap='plasma')\n",
    "plt.xlabel('First principal component')\n",
    "plt.ylabel('Second Principal Component')\n",
    "#Why might PCA be helpful in this dataset?\n",
    "#as there are around 5762 components in this dataset, which will create mess of calculations for loading data into the memory, \n",
    "# we need to use the power of PCA to reduce the principle components \n",
    "# in this step above I have used two PCs only and produce the results in the lower cell\n"
   ]
  },
  {
   "cell_type": "code",
   "execution_count": 103,
   "metadata": {},
   "outputs": [
    {
     "name": "stdout",
     "output_type": "stream",
     "text": [
      "Fitting 5 folds for each of 126 candidates, totalling 630 fits\n",
      "Best params: {'C': 10, 'gamma': 1, 'kernel': 'poly'}\n",
      "Train Result:n================================================\n",
      "Accuracy Score: 79.89%\n",
      "_______________________________________________\n",
      "CLASSIFICATION REPORT:n                   0           1  accuracy   macro avg  weighted avg\n",
      "precision   1.000000    0.794721  0.798851    0.897361      0.840142\n",
      "recall      0.090909    1.000000  0.798851    0.545455      0.798851\n",
      "f1-score    0.166667    0.885621  0.798851    0.526144      0.726542\n",
      "support    77.000000  271.000000  0.798851  348.000000    348.000000\n",
      "_______________________________________________\n",
      "Confusion Matrix: n [[  7  70]\n",
      " [  0 271]]n\n",
      "Test Result:n================================================\n",
      "Accuracy Score: 76.67%\n",
      "_______________________________________________\n",
      "CLASSIFICATION REPORT:n                   0           1  accuracy   macro avg  weighted avg\n",
      "precision   1.000000    0.763514  0.766667    0.881757      0.821847\n",
      "recall      0.054054    1.000000  0.766667    0.527027      0.766667\n",
      "f1-score    0.102564    0.865900  0.766667    0.484232      0.677611\n",
      "support    37.000000  113.000000  0.766667  150.000000    150.000000\n",
      "_______________________________________________\n",
      "Confusion Matrix: n [[  2  35]\n",
      " [  0 113]]n\n"
     ]
    }
   ],
   "source": [
    "param_grid = {'C': [0.01, 0.1, 0.5, 1, 10, 100], \n",
    "              'gamma': [1, 0.75, 0.5, 0.25, 0.1, 0.01, 0.001], \n",
    "              'kernel': ['rbf', 'poly', 'linear']} \n",
    "grid = GridSearchCV(SVC(), param_grid, refit=True, verbose=1, cv=5)\n",
    "grid.fit(X_train, y_train)\n",
    "best_params = grid.best_params_\n",
    "print(f\"Best params: {best_params}\")\n",
    "svm_clf = SVC(**best_params)\n",
    "svm_clf.fit(X_train, y_train)\n",
    "print_score(svm_clf, X_train, y_train, X_test, y_test, train=True)\n",
    "print_score(svm_clf, X_train, y_train, X_test, y_test, train=False)\n",
    "#Described the results\n"
   ]
  },
  {
   "cell_type": "code",
   "execution_count": 105,
   "metadata": {},
   "outputs": [],
   "source": [
    "#What is a drawback of PCA here?\n",
    "#The only drawback of the PCA, i see is that dimentionality reduction is powerful but at the cost of components which are difficult to understand\n",
    "#Review the accuracy, try different numbers of PCs\n",
    "#PCs = 3\n",
    "X_train, X_test, y_train, y_test = train_test_split(X, y, test_size=0.30, random_state=10)\n",
    "from sklearn.decomposition import PCA\n",
    "pca = PCA(n_components=3)\n",
    "scaler = StandardScaler()\n",
    "X_train= pca.fit_transform(X_train)\n",
    "X_test = pca.transform(X_test)\n",
    "X_train = scaler.fit_transform(X_train)\n",
    "X_test = scaler.transform(X_test)"
   ]
  },
  {
   "cell_type": "code",
   "execution_count": 106,
   "metadata": {},
   "outputs": [
    {
     "name": "stdout",
     "output_type": "stream",
     "text": [
      "Fitting 5 folds for each of 126 candidates, totalling 630 fits\n",
      "Best params: {'C': 100, 'gamma': 1, 'kernel': 'rbf'}\n",
      "Train Result:n================================================\n",
      "Accuracy Score: 81.32%\n",
      "_______________________________________________\n",
      "CLASSIFICATION REPORT:n                   0           1  accuracy   macro avg  weighted avg\n",
      "precision   0.875000    0.810241  0.813218    0.842620      0.824570\n",
      "recall      0.181818    0.992620  0.813218    0.587219      0.813218\n",
      "f1-score    0.301075    0.892206  0.813218    0.596640      0.761410\n",
      "support    77.000000  271.000000  0.813218  348.000000    348.000000\n",
      "_______________________________________________\n",
      "Confusion Matrix: n [[ 14  63]\n",
      " [  2 269]]n\n",
      "Test Result:n================================================\n",
      "Accuracy Score: 77.33%\n",
      "_______________________________________________\n",
      "CLASSIFICATION REPORT:n                   0           1  accuracy   macro avg  weighted avg\n",
      "precision   1.000000    0.768707  0.773333    0.884354      0.825760\n",
      "recall      0.081081    1.000000  0.773333    0.540541      0.773333\n",
      "f1-score    0.150000    0.869231  0.773333    0.509615      0.691821\n",
      "support    37.000000  113.000000  0.773333  150.000000    150.000000\n",
      "_______________________________________________\n",
      "Confusion Matrix: n [[  3  34]\n",
      " [  0 113]]n\n"
     ]
    }
   ],
   "source": [
    "param_grid = {'C': [0.01, 0.1, 0.5, 1, 10, 100], \n",
    "              'gamma': [1, 0.75, 0.5, 0.25, 0.1, 0.01, 0.001], \n",
    "              'kernel': ['rbf', 'poly', 'linear']} \n",
    "grid = GridSearchCV(SVC(), param_grid, refit=True, verbose=1, cv=5)\n",
    "grid.fit(X_train, y_train)\n",
    "best_params = grid.best_params_\n",
    "print(f\"Best params: {best_params}\")\n",
    "svm_clf = SVC(**best_params)\n",
    "svm_clf.fit(X_train, y_train)\n",
    "print_score(svm_clf, X_train, y_train, X_test, y_test, train=True)\n",
    "print_score(svm_clf, X_train, y_train, X_test, y_test, train=False)\n",
    "#Described the results\n",
    "#as increased the PCs from 2 to 3 the training plus the test accuracy increased a bit which is cool\n",
    "\n"
   ]
  },
  {
   "cell_type": "code",
   "execution_count": 22,
   "metadata": {},
   "outputs": [],
   "source": [
    "pickle.dump(model,open('model.sav','wb'))"
   ]
  }
 ],
 "metadata": {
  "kernelspec": {
   "display_name": "Python 3",
   "language": "python",
   "name": "python3"
  },
  "language_info": {
   "codemirror_mode": {
    "name": "ipython",
    "version": 3
   },
   "file_extension": ".py",
   "mimetype": "text/x-python",
   "name": "python",
   "nbconvert_exporter": "python",
   "pygments_lexer": "ipython3",
   "version": "3.9.13"
  },
  "orig_nbformat": 4
 },
 "nbformat": 4,
 "nbformat_minor": 2
}
